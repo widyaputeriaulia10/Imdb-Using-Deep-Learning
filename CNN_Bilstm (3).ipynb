{
  "nbformat": 4,
  "nbformat_minor": 0,
  "metadata": {
    "accelerator": "GPU",
    "colab": {
      "name": "CNN-Bilstm.ipynb",
      "provenance": [],
      "collapsed_sections": []
    },
    "kernelspec": {
      "display_name": "Python 3",
      "name": "python3"
    }
  },
  "cells": [
    {
      "cell_type": "code",
      "metadata": {
        "id": "BmQD7rJ_k_eY"
      },
      "source": [
        "import pandas as pd\n",
        "import numpy as np\n",
        "import matplotlib.pyplot as plt\n",
        "import seaborn as sns\n",
        "from sklearn.model_selection import train_test_split\n",
        "from sklearn.preprocessing import LabelEncoder\n",
        "from sklearn.metrics import classification_report,confusion_matrix\n",
        "from keras.models import Model\n",
        "from keras.layers import LSTM, Conv2D, MaxPooling1D, Activation, Dense, Dropout, Input, Embedding, Bidirectional\n",
        "#from keras.optimizers import RMSprop, adam\n",
        "from keras.preprocessing.text import Tokenizer\n",
        "from keras.preprocessing import sequence\n",
        "from keras.utils import to_categorical\n",
        "from keras.callbacks import EarlyStopping"
      ],
      "execution_count": null,
      "outputs": []
    },
    {
      "cell_type": "code",
      "metadata": {
        "colab": {
          "base_uri": "https://localhost:8080/"
        },
        "id": "G3AnugozltPW",
        "outputId": "a393605c-71c1-4c59-f0df-4b1c3160ad40"
      },
      "source": [
        "\n",
        "from google.colab import drive\n",
        "drive.mount(\"/content/gdrive\")"
      ],
      "execution_count": null,
      "outputs": [
        {
          "output_type": "stream",
          "text": [
            "Drive already mounted at /content/gdrive; to attempt to forcibly remount, call drive.mount(\"/content/gdrive\", force_remount=True).\n"
          ],
          "name": "stdout"
        }
      ]
    },
    {
      "cell_type": "code",
      "metadata": {
        "colab": {
          "base_uri": "https://localhost:8080/"
        },
        "id": "_wsX2mecl-Eo",
        "outputId": "7af812e9-2e79-4f45-f713-a9eeef76b4ee"
      },
      "source": [
        "df = pd.read_csv('/content/gdrive/MyDrive/Movie Data/Dataset Processing.csv')\n",
        "df.info()"
      ],
      "execution_count": null,
      "outputs": [
        {
          "output_type": "stream",
          "text": [
            "<class 'pandas.core.frame.DataFrame'>\n",
            "RangeIndex: 50001 entries, 0 to 50000\n",
            "Data columns (total 2 columns):\n",
            " #   Column  Non-Null Count  Dtype \n",
            "---  ------  --------------  ----- \n",
            " 0   text    50001 non-null  object\n",
            " 1   label   50001 non-null  object\n",
            "dtypes: object(2)\n",
            "memory usage: 781.4+ KB\n"
          ],
          "name": "stdout"
        }
      ]
    },
    {
      "cell_type": "code",
      "metadata": {
        "id": "-O9PjXtbmM1N"
      },
      "source": [
        "X = df.text\n",
        "Y = df.label\n",
        "le = LabelEncoder()\n",
        "Y = le.fit_transform(Y)\n",
        "Y = Y.reshape(-1,1)"
      ],
      "execution_count": null,
      "outputs": []
    },
    {
      "cell_type": "code",
      "metadata": {
        "id": "ITN427xzqb0u"
      },
      "source": [
        "X_train,X_test,Y_train,Y_test = train_test_split(X,Y,test_size=0.1)"
      ],
      "execution_count": null,
      "outputs": []
    },
    {
      "cell_type": "code",
      "metadata": {
        "id": "Q_FIAzvQmS1u"
      },
      "source": [
        "max_words = 20000\n",
        "max_len = 150\n",
        "tok = Tokenizer(num_words=max_words)\n",
        "tok.fit_on_texts(X_train)\n",
        "sequences = tok.texts_to_sequences(X_train)\n",
        "sequences_matrix = sequence.pad_sequences(sequences,maxlen=max_len)\n"
      ],
      "execution_count": null,
      "outputs": []
    },
    {
      "cell_type": "code",
      "metadata": {
        "id": "Epz0tvbdLwie"
      },
      "source": [
        "# Convolution\n",
        "kernel_size = 3\n",
        "filters = 256\n",
        "pool_size = 2"
      ],
      "execution_count": null,
      "outputs": []
    },
    {
      "cell_type": "code",
      "metadata": {
        "id": "rvKAHyZumftV"
      },
      "source": [
        "def CNN_Bi_LSTM():\n",
        "    inputs = Input(name='inputs',shape=[max_len])\n",
        "    layer = Embedding(max_words,50,input_length=max_len)(inputs)\n",
        "    layer = Conv1D(filters,\n",
        "                 kernel_size,\n",
        "                 padding='valid',\n",
        "                 activation='relu',\n",
        "                 strides=1)(layer)\n",
        "    layer = MaxPooling1D(pool_size=pool_size)(layer)\n",
        "    layer = Bidirectional(LSTM(64))(layer)\n",
        "    layer = Dense(1,name='out_layer')(layer)\n",
        "    layer = Activation('sigmoid')(layer)\n",
        "    model = Model(inputs=inputs,outputs=layer)\n",
        "    return model"
      ],
      "execution_count": null,
      "outputs": []
    },
    {
      "cell_type": "code",
      "metadata": {
        "id": "OEw04Z9qMj-u"
      },
      "source": [
        "def CNN_Bi_LSTM_2l():\n",
        "    inputs = Input(name='inputs',shape=[max_len])\n",
        "    layer = Embedding(max_words,50,input_length=max_len)(inputs)\n",
        "    layer = Conv1D(filters,\n",
        "                 kernel_size,\n",
        "                 padding='valid',\n",
        "                 activation='relu',\n",
        "                 strides=1)(layer)\n",
        "    layer = MaxPooling1D(pool_size=pool_size)(layer)\n",
        "    layer = Bidirectional(LSTM(128, return_sequences=True), input_shape=(5, 10))(layer)\n",
        "    layer = Bidirectional(LSTM(64))(layer)\n",
        "    layer = Dense(1,name='out_layer')(layer)\n",
        "    layer = Activation('sigmoid')(layer)\n",
        "    model = Model(inputs=inputs,outputs=layer)\n",
        "    return model"
      ],
      "execution_count": null,
      "outputs": []
    },
    {
      "cell_type": "code",
      "metadata": {
        "colab": {
          "base_uri": "https://localhost:8080/"
        },
        "id": "LwbdXPLLM2NN",
        "outputId": "75a653ce-be61-4a2f-e046-290c1ec6c4ae"
      },
      "source": [
        "model = CNN_Bi_LSTM()\n",
        "model.summary()\n",
        "model.compile(loss='binary_crossentropy',optimizer='adam',metrics=['accuracy'])"
      ],
      "execution_count": null,
      "outputs": [
        {
          "output_type": "stream",
          "text": [
            "Model: \"model_2\"\n",
            "_________________________________________________________________\n",
            "Layer (type)                 Output Shape              Param #   \n",
            "=================================================================\n",
            "inputs (InputLayer)          [(None, 150)]             0         \n",
            "_________________________________________________________________\n",
            "embedding_2 (Embedding)      (None, 150, 50)           1000000   \n",
            "_________________________________________________________________\n",
            "conv1d_2 (Conv1D)            (None, 148, 256)          38656     \n",
            "_________________________________________________________________\n",
            "max_pooling1d_2 (MaxPooling1 (None, 74, 256)           0         \n",
            "_________________________________________________________________\n",
            "bidirectional_1 (Bidirection (None, 128)               164352    \n",
            "_________________________________________________________________\n",
            "out_layer (Dense)            (None, 1)                 129       \n",
            "_________________________________________________________________\n",
            "activation_2 (Activation)    (None, 1)                 0         \n",
            "=================================================================\n",
            "Total params: 1,203,137\n",
            "Trainable params: 1,203,137\n",
            "Non-trainable params: 0\n",
            "_________________________________________________________________\n"
          ],
          "name": "stdout"
        }
      ]
    },
    {
      "cell_type": "code",
      "metadata": {
        "colab": {
          "base_uri": "https://localhost:8080/"
        },
        "id": "1Vp6bdfrNAA8",
        "outputId": "c5207114-0127-4f2f-a9e7-4de0b414a126"
      },
      "source": [
        "model2 = CNN_Bi_LSTM_2l()\n",
        "model2.summary()\n",
        "model2.compile(loss='binary_crossentropy',optimizer='adam',metrics=['accuracy'])"
      ],
      "execution_count": null,
      "outputs": [
        {
          "output_type": "stream",
          "text": [
            "Model: \"model_3\"\n",
            "_________________________________________________________________\n",
            "Layer (type)                 Output Shape              Param #   \n",
            "=================================================================\n",
            "inputs (InputLayer)          [(None, 150)]             0         \n",
            "_________________________________________________________________\n",
            "embedding_3 (Embedding)      (None, 150, 50)           1000000   \n",
            "_________________________________________________________________\n",
            "conv1d_3 (Conv1D)            (None, 148, 256)          38656     \n",
            "_________________________________________________________________\n",
            "max_pooling1d_3 (MaxPooling1 (None, 74, 256)           0         \n",
            "_________________________________________________________________\n",
            "bidirectional_2 (Bidirection (None, 74, 256)           394240    \n",
            "_________________________________________________________________\n",
            "bidirectional_3 (Bidirection (None, 128)               164352    \n",
            "_________________________________________________________________\n",
            "out_layer (Dense)            (None, 1)                 129       \n",
            "_________________________________________________________________\n",
            "activation_3 (Activation)    (None, 1)                 0         \n",
            "=================================================================\n",
            "Total params: 1,597,377\n",
            "Trainable params: 1,597,377\n",
            "Non-trainable params: 0\n",
            "_________________________________________________________________\n"
          ],
          "name": "stdout"
        }
      ]
    },
    {
      "cell_type": "code",
      "metadata": {
        "colab": {
          "base_uri": "https://localhost:8080/"
        },
        "id": "_AgGLfl8NSmY",
        "outputId": "20d0f118-33b2-4861-a5e5-f909f9dd40bd"
      },
      "source": [
        "his = model.fit(sequences_matrix,Y_train,batch_size=100,epochs=2,\n",
        "          validation_split=0.2,callbacks=[EarlyStopping(monitor='val_loss',min_delta=0.0001)])"
      ],
      "execution_count": null,
      "outputs": [
        {
          "output_type": "stream",
          "text": [
            "Epoch 1/2\n",
            "360/360 [==============================] - 9s 25ms/step - loss: 0.3505 - accuracy: 0.8382 - val_loss: 0.3111 - val_accuracy: 0.8710\n",
            "Epoch 2/2\n",
            "360/360 [==============================] - 8s 23ms/step - loss: 0.1791 - accuracy: 0.9345 - val_loss: 0.2855 - val_accuracy: 0.8836\n"
          ],
          "name": "stdout"
        }
      ]
    },
    {
      "cell_type": "code",
      "metadata": {
        "colab": {
          "base_uri": "https://localhost:8080/"
        },
        "id": "3XC4szelNlt7",
        "outputId": "09e0affe-9c2c-42ec-ea83-a47ecdd993db"
      },
      "source": [
        "his2 = model2.fit(sequences_matrix,Y_train,batch_size=100,epochs=2,\n",
        "          validation_split=0.2,callbacks=[EarlyStopping(monitor='val_loss',min_delta=0.0001)])"
      ],
      "execution_count": null,
      "outputs": [
        {
          "output_type": "stream",
          "text": [
            "Epoch 1/2\n",
            "360/360 [==============================] - 14s 40ms/step - loss: 0.3468 - accuracy: 0.8390 - val_loss: 0.2753 - val_accuracy: 0.8844\n",
            "Epoch 2/2\n",
            "360/360 [==============================] - 13s 36ms/step - loss: 0.1780 - accuracy: 0.9334 - val_loss: 0.2860 - val_accuracy: 0.8852\n"
          ],
          "name": "stdout"
        }
      ]
    },
    {
      "cell_type": "code",
      "metadata": {
        "id": "rEPAuhxls2LM"
      },
      "source": [
        "tokenized_word_list_test = tok.texts_to_sequences(X_test)\n",
        "X_test_padded = sequence.pad_sequences(tokenized_word_list_test, maxlen = max_len, padding = 'post')"
      ],
      "execution_count": null,
      "outputs": []
    },
    {
      "cell_type": "code",
      "metadata": {
        "colab": {
          "base_uri": "https://localhost:8080/"
        },
        "id": "05MoehHLvxvU",
        "outputId": "50b0793a-409a-4c2b-8c0a-e7327fd67973"
      },
      "source": [
        "score, acc = model.evaluate(X_test_padded, Y_test)\n",
        "print('The accuracy of the model on the test set is ', acc*100)\n",
        "y_pred = model.predict(X_test_padded)\n"
      ],
      "execution_count": null,
      "outputs": [
        {
          "output_type": "stream",
          "text": [
            "157/157 [==============================] - 1s 6ms/step - loss: 0.3508 - accuracy: 0.8674\n",
            "The accuracy of the model on the test set is  86.74265146255493\n"
          ],
          "name": "stdout"
        }
      ]
    },
    {
      "cell_type": "code",
      "metadata": {
        "colab": {
          "base_uri": "https://localhost:8080/"
        },
        "id": "OuLHN0Q6xjmi",
        "outputId": "767a7f1e-f3a8-47b5-f40d-bc4ca7c77a26"
      },
      "source": [
        "score, acc = model2.evaluate(X_test_padded, Y_test)\n",
        "print('The accuracy of the model on the test set is ', acc*100)\n",
        "y_pred1 = model2.predict(X_test_padded)"
      ],
      "execution_count": null,
      "outputs": [
        {
          "output_type": "stream",
          "text": [
            "157/157 [==============================] - 1s 9ms/step - loss: 0.3430 - accuracy: 0.8692\n",
            "The accuracy of the model on the test set is  86.92261576652527\n"
          ],
          "name": "stdout"
        }
      ]
    },
    {
      "cell_type": "code",
      "metadata": {
        "id": "Mh4gNXBN5Gyj"
      },
      "source": [
        "class_id = (y_pred > 0.5)\n",
        "cl = class_id.astype(int)\n",
        "class_id1 = (y_pred1 > 0.5)\n",
        "cl1 = class_id1.astype(int)"
      ],
      "execution_count": null,
      "outputs": []
    },
    {
      "cell_type": "code",
      "metadata": {
        "colab": {
          "base_uri": "https://localhost:8080/"
        },
        "id": "-dkueiKUxFeG",
        "outputId": "d58938cc-b382-4e5d-d480-b801446c7676"
      },
      "source": [
        "print(classification_report(Y_test,cl))\n",
        "print(confusion_matrix(Y_test,cl))"
      ],
      "execution_count": null,
      "outputs": [
        {
          "output_type": "stream",
          "text": [
            "              precision    recall  f1-score   support\n",
            "\n",
            "           0       0.93      0.79      0.86      2474\n",
            "           1       0.82      0.94      0.88      2527\n",
            "\n",
            "    accuracy                           0.87      5001\n",
            "   macro avg       0.88      0.87      0.87      5001\n",
            "weighted avg       0.88      0.87      0.87      5001\n",
            "\n",
            "[[1960  514]\n",
            " [ 149 2378]]\n"
          ],
          "name": "stdout"
        }
      ]
    },
    {
      "cell_type": "code",
      "metadata": {
        "colab": {
          "base_uri": "https://localhost:8080/"
        },
        "id": "ocfTgeuqx8ja",
        "outputId": "b52c172b-eb92-4687-e1ba-af8b87037802"
      },
      "source": [
        "print(classification_report(Y_test,cl1))\n",
        "print(confusion_matrix(Y_test,cl1))"
      ],
      "execution_count": null,
      "outputs": [
        {
          "output_type": "stream",
          "text": [
            "              precision    recall  f1-score   support\n",
            "\n",
            "           0       0.92      0.80      0.86      2474\n",
            "           1       0.83      0.94      0.88      2527\n",
            "\n",
            "    accuracy                           0.87      5001\n",
            "   macro avg       0.88      0.87      0.87      5001\n",
            "weighted avg       0.88      0.87      0.87      5001\n",
            "\n",
            "[[1981  493]\n",
            " [ 161 2366]]\n"
          ],
          "name": "stdout"
        }
      ]
    },
    {
      "cell_type": "code",
      "metadata": {
        "id": "k-73Nm7_xts9"
      },
      "source": [
        "def plot_learningCurve(history, epochs):\n",
        "  # Plot training & validation accuracy values\n",
        "  epoch_range = range(1, epochs+1)\n",
        "  plt.plot(epoch_range, history.history['accuracy'])\n",
        "  plt.plot(epoch_range, history.history['val_accuracy'])\n",
        "  plt.title('Model accuracy')\n",
        "  plt.ylabel('Accuracy')\n",
        "  plt.xlabel('Epoch')\n",
        "  plt.legend(['Train', 'Val'], loc='upper left')\n",
        "  plt.show()\n",
        "\n",
        "  # Plot training & validation loss values\n",
        "  plt.plot(epoch_range, history.history['loss'])\n",
        "  plt.plot(epoch_range, history.history['val_loss'])\n",
        "  plt.title('Model loss')\n",
        "  plt.ylabel('Loss')\n",
        "  plt.xlabel('Epoch')\n",
        "  plt.legend(['Train', 'Val'], loc='upper left')\n",
        "  plt.show()"
      ],
      "execution_count": null,
      "outputs": []
    },
    {
      "cell_type": "code",
      "metadata": {
        "colab": {
          "base_uri": "https://localhost:8080/",
          "height": 573
        },
        "id": "MEZxgvu56aYZ",
        "outputId": "415a625e-c0e4-4b32-b647-c8f94e9814c9"
      },
      "source": [
        "plot_learningCurve(his, 2)"
      ],
      "execution_count": null,
      "outputs": [
        {
          "output_type": "display_data",
          "data": {
            "image/png": "[encoded data removed]",
            "text/plain": [
              "<Figure size 432x288 with 1 Axes>"
            ]
          },
          "metadata": {
            "tags": [],
            "needs_background": "light"
          }
        },
        {
          "output_type": "display_data",
          "data": {
            "image/png": "[encoded data removed]",
            "text/plain": [
              "<Figure size 432x288 with 1 Axes>"
            ]
          },
          "metadata": {
            "tags": [],
            "needs_background": "light"
          }
        }
      ]
    },
    {
      "cell_type": "code",
      "metadata": {
        "colab": {
          "base_uri": "https://localhost:8080/",
          "height": 573
        },
        "id": "1vnY18Li6x6V",
        "outputId": "60ce8f8a-d8fa-448a-9afe-a47e0161d8e7"
      },
      "source": [
        "plot_learningCurve(his2, 2)"
      ],
      "execution_count": null,
      "outputs": [
        {
          "output_type": "display_data",
          "data": {
            "image/png": "[encoded data removed]",
            "text/plain": [
              "<Figure size 432x288 with 1 Axes>"
            ]
          },
          "metadata": {
            "tags": [],
            "needs_background": "light"
          }
        },
        {
          "output_type": "display_data",
          "data": {
            "image/png": "[encoded data removed]",
            "text/plain": [
              "<Figure size 432x288 with 1 Axes>"
            ]
          },
          "metadata": {
            "tags": [],
            "needs_background": "light"
          }
        }
      ]
    },
    {
      "cell_type": "code",
      "metadata": {
        "id": "a2kcBQ0mOmqf"
      },
      "source": [
        ""
      ],
      "execution_count": null,
      "outputs": []
    }
  ]
}