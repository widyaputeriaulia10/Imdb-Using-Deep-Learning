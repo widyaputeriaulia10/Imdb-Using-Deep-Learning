{
  "nbformat": 4,
  "nbformat_minor": 0,
  "metadata": {
    "colab": {
      "name": "Bidirectional_LSTM.ipynb",
      "provenance": [],
      "collapsed_sections": []
    },
    "kernelspec": {
      "name": "python3",
      "display_name": "Python 3"
    },
    "accelerator": "GPU"
  },
  "cells": [
    {
      "cell_type": "code",
      "metadata": {
        "id": "2hY-I4UxO9lk"
      },
      "source": [
        "import pandas as pd\n",
        "import numpy as np\n",
        "import matplotlib.pyplot as plt\n",
        "import seaborn as sns\n",
        "from sklearn.model_selection import train_test_split\n",
        "from sklearn.preprocessing import LabelEncoder\n",
        "from sklearn.metrics import classification_report,confusion_matrix\n",
        "from keras.models import Model\n",
        "from keras.layers import LSTM, Activation, Dense, Dropout, Input, Embedding,Bidirectional\n",
        "#from keras.optimizers import RMSprop, adam\n",
        "from keras.preprocessing.text import Tokenizer\n",
        "from keras.preprocessing import sequence\n",
        "from keras.utils import to_categorical\n",
        "from keras.callbacks import EarlyStopping\n"
      ],
      "execution_count": null,
      "outputs": []
    },
    {
      "cell_type": "code",
      "metadata": {
        "id": "NbxC6XeTqOFJ"
      },
      "source": [
        "from google.colab import drive\n",
        "drive.mount(\"/content/gdrive\")"
      ],
      "execution_count": null,
      "outputs": []
    },
    {
      "cell_type": "code",
      "metadata": {
        "id": "Q9bkEDS2PfBK"
      },
      "source": [
        "df = pd.read_csv('/content/gdrive/MyDrive/Movie Data/Dataset Processing.csv')"
      ],
      "execution_count": null,
      "outputs": []
    },
    {
      "cell_type": "code",
      "metadata": {
        "id": "dIbdROHFiFWr"
      },
      "source": [
        "X = df.text\n",
        "Y = df.label\n",
        "le = LabelEncoder()\n",
        "Y = le.fit_transform(Y)\n",
        "Y = Y.reshape(-1,1)\n"
      ],
      "execution_count": null,
      "outputs": []
    },
    {
      "cell_type": "code",
      "metadata": {
        "id": "9-tK3-hGcHdO"
      },
      "source": [
        "X_train,X_test,Y_train,Y_test = train_test_split(X,Y,test_size=0.1)"
      ],
      "execution_count": null,
      "outputs": []
    },
    {
      "cell_type": "code",
      "metadata": {
        "id": "WacituvmcU_t"
      },
      "source": [
        "max_words = 20000\n",
        "max_len = 150\n",
        "tok = Tokenizer(num_words=max_words)\n",
        "tok.fit_on_texts(X_train)\n",
        "sequences = tok.texts_to_sequences(X_train)\n",
        "sequences_matrix = sequence.pad_sequences(sequences,maxlen=max_len)"
      ],
      "execution_count": null,
      "outputs": []
    },
    {
      "cell_type": "code",
      "metadata": {
        "id": "hP9Qh2TjPJlr"
      },
      "source": [
        "def Bi_LSTM():\n",
        "    inputs = Input(name='inputs',shape=[max_len])\n",
        "    layer = Embedding(max_words,50,input_length=max_len)(inputs)\n",
        "    layer = Bidirectional(LSTM(64))(layer)\n",
        "    layer = Dense(1,name='out_layer')(layer)\n",
        "    layer = Activation('sigmoid')(layer)\n",
        "    model = Model(inputs=inputs,outputs=layer)\n",
        "    return model"
      ],
      "execution_count": null,
      "outputs": []
    },
    {
      "cell_type": "code",
      "metadata": {
        "id": "nLO-ApovInKw"
      },
      "source": [
        "def Bi_LSTM_2l():\n",
        "    inputs = Input(name='inputs',shape=[max_len])\n",
        "    layer = Embedding(max_words,50,input_length=max_len)(inputs)\n",
        "    layer = Bidirectional(LSTM(128,dropout =0.4, recurrent_dropout = 0.5, return_sequences=True), input_shape=(5, 10))(layer)\n",
        "    layer = Bidirectional(LSTM(64))(layer)\n",
        "    layer = Dense(1,name='out_layer')(layer)\n",
        "    layer = Activation('sigmoid')(layer)\n",
        "    model = Model(inputs=inputs,outputs=layer)\n",
        "    return model"
      ],
      "execution_count": null,
      "outputs": []
    },
    {
      "cell_type": "code",
      "metadata": {
        "colab": {
          "base_uri": "https://localhost:8080/"
        },
        "id": "DbSqwTBKlIe9",
        "outputId": "d2467ad7-6d0c-4387-a2f0-b06ba2eaeded"
      },
      "source": [
        "model = Bi_LSTM()\n",
        "model.summary()\n",
        "model.compile(loss='binary_crossentropy',optimizer='adam',metrics=['accuracy'])"
      ],
      "execution_count": null,
      "outputs": [
        {
          "output_type": "stream",
          "text": [
            "Model: \"model_2\"\n",
            "_________________________________________________________________\n",
            "Layer (type)                 Output Shape              Param #   \n",
            "=================================================================\n",
            "inputs (InputLayer)          [(None, 150)]             0         \n",
            "_________________________________________________________________\n",
            "embedding_2 (Embedding)      (None, 150, 50)           1000000   \n",
            "_________________________________________________________________\n",
            "bidirectional_1 (Bidirection (None, 128)               58880     \n",
            "_________________________________________________________________\n",
            "out_layer (Dense)            (None, 1)                 129       \n",
            "_________________________________________________________________\n",
            "activation_2 (Activation)    (None, 1)                 0         \n",
            "=================================================================\n",
            "Total params: 1,059,009\n",
            "Trainable params: 1,059,009\n",
            "Non-trainable params: 0\n",
            "_________________________________________________________________\n"
          ],
          "name": "stdout"
        }
      ]
    },
    {
      "cell_type": "code",
      "metadata": {
        "colab": {
          "base_uri": "https://localhost:8080/"
        },
        "id": "o-LTR18CItqe",
        "outputId": "0f87eff9-79a6-4a6f-8336-b67af5e5770a"
      },
      "source": [
        "model2 = Bi_LSTM_2l()\n",
        "model2.summary()\n",
        "model2.compile(loss='binary_crossentropy',optimizer='adam',metrics=['accuracy'])"
      ],
      "execution_count": null,
      "outputs": [
        {
          "output_type": "stream",
          "text": [
            "WARNING:tensorflow:Layer lstm_3 will not use cuDNN kernel since it doesn't meet the cuDNN kernel criteria. It will use generic GPU kernel as fallback when running on GPU\n",
            "WARNING:tensorflow:Layer lstm_3 will not use cuDNN kernel since it doesn't meet the cuDNN kernel criteria. It will use generic GPU kernel as fallback when running on GPU\n",
            "WARNING:tensorflow:Layer lstm_3 will not use cuDNN kernel since it doesn't meet the cuDNN kernel criteria. It will use generic GPU kernel as fallback when running on GPU\n",
            "Model: \"model_3\"\n",
            "_________________________________________________________________\n",
            "Layer (type)                 Output Shape              Param #   \n",
            "=================================================================\n",
            "inputs (InputLayer)          [(None, 150)]             0         \n",
            "_________________________________________________________________\n",
            "embedding_3 (Embedding)      (None, 150, 50)           1000000   \n",
            "_________________________________________________________________\n",
            "bidirectional_2 (Bidirection (None, 150, 256)          183296    \n",
            "_________________________________________________________________\n",
            "bidirectional_3 (Bidirection (None, 128)               164352    \n",
            "_________________________________________________________________\n",
            "out_layer (Dense)            (None, 1)                 129       \n",
            "_________________________________________________________________\n",
            "activation_3 (Activation)    (None, 1)                 0         \n",
            "=================================================================\n",
            "Total params: 1,347,777\n",
            "Trainable params: 1,347,777\n",
            "Non-trainable params: 0\n",
            "_________________________________________________________________\n"
          ],
          "name": "stdout"
        }
      ]
    },
    {
      "cell_type": "code",
      "metadata": {
        "colab": {
          "base_uri": "https://localhost:8080/"
        },
        "id": "42xmWDg8pU1X",
        "outputId": "77ccf71b-e411-4921-e991-7a80909dbda9"
      },
      "source": [
        "his1 = model.fit(sequences_matrix,Y_train,batch_size=100,epochs=2,\n",
        "          validation_split=0.5,callbacks=[EarlyStopping(monitor='val_loss',min_delta=0.0001)])"
      ],
      "execution_count": null,
      "outputs": [
        {
          "output_type": "stream",
          "text": [
            "Epoch 1/2\n",
            "225/225 [==============================] - 8s 35ms/step - loss: 0.4159 - accuracy: 0.8016 - val_loss: 0.2925 - val_accuracy: 0.8793\n",
            "Epoch 2/2\n",
            "225/225 [==============================] - 7s 32ms/step - loss: 0.1868 - accuracy: 0.9324 - val_loss: 0.3220 - val_accuracy: 0.8780\n"
          ],
          "name": "stdout"
        }
      ]
    },
    {
      "cell_type": "code",
      "metadata": {
        "id": "VZy3o5QYtRg6",
        "colab": {
          "base_uri": "https://localhost:8080/"
        },
        "outputId": "9df745e8-ccf0-4c61-bdf1-1026b0b3d2c6"
      },
      "source": [
        "his2 = model2.fit(sequences_matrix,Y_train,batch_size=100,epochs=2,\n",
        "          validation_split=0.5,callbacks=[EarlyStopping(monitor='val_loss',min_delta=0.0001)])"
      ],
      "execution_count": null,
      "outputs": [
        {
          "output_type": "stream",
          "text": [
            "Epoch 1/2\n",
            "225/225 [==============================] - 131s 582ms/step - loss: 0.4125 - accuracy: 0.7999 - val_loss: 0.3045 - val_accuracy: 0.8716\n",
            "Epoch 2/2\n",
            "225/225 [==============================] - 130s 576ms/step - loss: 0.2050 - accuracy: 0.9242 - val_loss: 0.3029 - val_accuracy: 0.8776\n"
          ],
          "name": "stdout"
        }
      ]
    },
    {
      "cell_type": "code",
      "metadata": {
        "id": "I1OnJ6EXYtUo"
      },
      "source": [
        "tokenized_word_list_test = tok.texts_to_sequences(X_test)\n",
        "X_test_padded = sequence.pad_sequences(tokenized_word_list_test, maxlen = max_len, padding = 'post')"
      ],
      "execution_count": null,
      "outputs": []
    },
    {
      "cell_type": "code",
      "metadata": {
        "colab": {
          "base_uri": "https://localhost:8080/"
        },
        "id": "ZEYouRKfJ-OL",
        "outputId": "2dbb197b-b310-44ef-dd9a-564845508053"
      },
      "source": [
        "score, acc = model.evaluate(X_test_padded, Y_test)\n",
        "print('The accuracy of the model on the test set is ', acc*100)\n",
        "y_pred = model.predict(X_test_padded)"
      ],
      "execution_count": null,
      "outputs": [
        {
          "output_type": "stream",
          "text": [
            "157/157 [==============================] - 1s 8ms/step - loss: 0.6504 - accuracy: 0.6209\n",
            "The accuracy of the model on the test set is  62.08758354187012\n"
          ],
          "name": "stdout"
        }
      ]
    },
    {
      "cell_type": "code",
      "metadata": {
        "colab": {
          "base_uri": "https://localhost:8080/"
        },
        "id": "aOiza6l-2e7Y",
        "outputId": "173e5124-a994-443d-b216-c6ee88c9bffc"
      },
      "source": [
        "score, acc = model2.evaluate(X_test_padded, Y_test)\n",
        "print('The accuracy of the model on the test set is ', acc*100)\n",
        "y_pred1 = model2.predict(X_test_padded)"
      ],
      "execution_count": null,
      "outputs": [
        {
          "output_type": "stream",
          "text": [
            "157/157 [==============================] - 14s 86ms/step - loss: 0.4811 - accuracy: 0.8358\n",
            "The accuracy of the model on the test set is  83.58328342437744\n"
          ],
          "name": "stdout"
        }
      ]
    },
    {
      "cell_type": "code",
      "metadata": {
        "id": "oQXKgv4UKBY1"
      },
      "source": [
        "class_id = (y_pred > 0.5)\n",
        "cl = class_id.astype(int)\n",
        "class_id1 = (y_pred1 > 0.5)\n",
        "cl1 = class_id1.astype(int)"
      ],
      "execution_count": null,
      "outputs": []
    },
    {
      "cell_type": "code",
      "metadata": {
        "colab": {
          "base_uri": "https://localhost:8080/"
        },
        "id": "hlP4ifHO2sF7",
        "outputId": "7142b89f-81fa-48f1-9ca1-16337e665506"
      },
      "source": [
        "print(classification_report(Y_test,cl))\n",
        "print(confusion_matrix(Y_test,cl))"
      ],
      "execution_count": null,
      "outputs": [
        {
          "output_type": "stream",
          "text": [
            "              precision    recall  f1-score   support\n",
            "\n",
            "           0       0.57      0.95      0.71      2490\n",
            "           1       0.86      0.29      0.44      2511\n",
            "\n",
            "    accuracy                           0.62      5001\n",
            "   macro avg       0.72      0.62      0.58      5001\n",
            "weighted avg       0.72      0.62      0.57      5001\n",
            "\n",
            "[[2372  118]\n",
            " [1778  733]]\n"
          ],
          "name": "stdout"
        }
      ]
    },
    {
      "cell_type": "code",
      "metadata": {
        "colab": {
          "base_uri": "https://localhost:8080/"
        },
        "id": "d7jDAXxG2zpO",
        "outputId": "ef5db7c2-aa8d-489f-c8f3-b7ae3b1dbf0a"
      },
      "source": [
        "print(classification_report(Y_test,cl1))\n",
        "print(confusion_matrix(Y_test,cl1))"
      ],
      "execution_count": null,
      "outputs": [
        {
          "output_type": "stream",
          "text": [
            "              precision    recall  f1-score   support\n",
            "\n",
            "           0       0.57      0.95      0.71      2490\n",
            "           1       0.86      0.29      0.44      2511\n",
            "\n",
            "    accuracy                           0.62      5001\n",
            "   macro avg       0.72      0.62      0.58      5001\n",
            "weighted avg       0.72      0.62      0.57      5001\n",
            "\n",
            "[[2372  118]\n",
            " [1778  733]]\n"
          ],
          "name": "stdout"
        }
      ]
    },
    {
      "cell_type": "code",
      "metadata": {
        "id": "3BD6d544KLQi"
      },
      "source": [
        "def plot_learningCurve(history, epochs):\n",
        "  # Plot training & validation accuracy values\n",
        "  epoch_range = range(1, epochs+1)\n",
        "  plt.plot(epoch_range, history.history['accuracy'])\n",
        "  plt.plot(epoch_range, history.history['val_accuracy'])\n",
        "  plt.title('Model accuracy')\n",
        "  plt.ylabel('Accuracy')\n",
        "  plt.xlabel('Epoch')\n",
        "  plt.legend(['Train', 'Val'], loc='upper left')\n",
        "  plt.show()\n",
        "\n",
        "  # Plot training & validation loss values\n",
        "  plt.plot(epoch_range, history.history['loss'])\n",
        "  plt.plot(epoch_range, history.history['val_loss'])\n",
        "  plt.title('Model loss')\n",
        "  plt.ylabel('Loss')\n",
        "  plt.xlabel('Epoch')\n",
        "  plt.legend(['Train', 'Val'], loc='upper left')\n",
        "  plt.show()"
      ],
      "execution_count": null,
      "outputs": []
    },
    {
      "cell_type": "code",
      "metadata": {
        "colab": {
          "base_uri": "https://localhost:8080/",
          "height": 573
        },
        "id": "gU0GDsd_KuSC",
        "outputId": "a98c67d0-dbfe-4171-93af-4bb2e7e0c1a6"
      },
      "source": [
        "plot_learningCurve(his1, 2)"
      ],
      "execution_count": null,
      "outputs": [
        {
          "output_type": "display_data",
          "data": {
            "image/png": "[encoded data removed]",
            "text/plain": [
              "<Figure size 432x288 with 1 Axes>"
            ]
          },
          "metadata": {
            "tags": [],
            "needs_background": "light"
          }
        },
        {
          "output_type": "display_data",
          "data": {
            "image/png": "[encoded data removed]",
            "text/plain": [
              "<Figure size 432x288 with 1 Axes>"
            ]
          },
          "metadata": {
            "tags": [],
            "needs_background": "light"
          }
        }
      ]
    },
    {
      "cell_type": "code",
      "metadata": {
        "colab": {
          "base_uri": "https://localhost:8080/",
          "height": 573
        },
        "id": "NNqDmoz7Kzzw",
        "outputId": "afb8fc0d-2c76-4b37-9520-578cd8d27cd8"
      },
      "source": [
        "plot_learningCurve(his2, 2)"
      ],
      "execution_count": null,
      "outputs": [
        {
          "output_type": "display_data",
          "data": {
            "image/png": "[encoded data removed]",
            "text/plain": [
              "<Figure size 432x288 with 1 Axes>"
            ]
          },
          "metadata": {
            "tags": [],
            "needs_background": "light"
          }
        },
        {
          "output_type": "display_data",
          "data": {
            "image/png": "[encoded data removed]",
            "text/plain": [
              "<Figure size 432x288 with 1 Axes>"
            ]
          },
          "metadata": {
            "tags": [],
            "needs_background": "light"
          }
        }
      ]
    },
    {
      "cell_type": "code",
      "metadata": {
        "id": "vU2lfYoWMmQa"
      },
      "source": [
        ""
      ],
      "execution_count": null,
      "outputs": []
    }
  ]
}